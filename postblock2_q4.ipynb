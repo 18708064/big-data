{
  "nbformat": 4,
  "nbformat_minor": 0,
  "metadata": {
    "colab": {
      "provenance": [],
      "authorship_tag": "ABX9TyNk3iH3t2vBwM6vnEBLqKNX",
      "include_colab_link": true
    },
    "kernelspec": {
      "name": "python3",
      "display_name": "Python 3"
    },
    "language_info": {
      "name": "python"
    }
  },
  "cells": [
    {
      "cell_type": "markdown",
      "metadata": {
        "id": "view-in-github",
        "colab_type": "text"
      },
      "source": [
        "<a href=\"https://colab.research.google.com/github/18708064/big-data/blob/master/postblock2_q4.ipynb\" target=\"_parent\"><img src=\"https://colab.research.google.com/assets/colab-badge.svg\" alt=\"Open In Colab\"/></a>"
      ]
    },
    {
      "cell_type": "code",
      "execution_count": null,
      "metadata": {
        "id": "ZtSbXYd4sI01"
      },
      "outputs": [],
      "source": [
        "# Map function\n",
        "def map(filename, content):\n",
        "    # For each character in the content of the file\n",
        "    for char in content:\n",
        "        # Emit the character as the key and the value as 1\n",
        "        EmitIntermediate(char, 1)\n",
        "\n",
        "# Reduce function\n",
        "def reduce(char, values):\n",
        "    # Sum the counts for each character key\n",
        "    result = sum(values)\n",
        "    Emit(char, result)\n"
      ]
    },
    {
      "cell_type": "markdown",
      "source": [
        "Question 3.5"
      ],
      "metadata": {
        "id": "-o6RAPvjFkyJ"
      }
    },
    {
      "cell_type": "code",
      "source": [
        "# Combiner function\n",
        "def combiner(char, values):\n",
        "    # Partially sum values before sending to reducer\n",
        "    partial_sum = sum(values)\n",
        "    Emit(char, partial_sum)\n"
      ],
      "metadata": {
        "id": "Eq-IyzYUFhxl"
      },
      "execution_count": null,
      "outputs": []
    },
    {
      "cell_type": "markdown",
      "source": [
        "Question 4"
      ],
      "metadata": {
        "id": "g_y3oegKFrbJ"
      }
    },
    {
      "cell_type": "code",
      "source": [
        "# Map function\n",
        "def map(hostname, document):\n",
        "    # Tokenize the document into words\n",
        "    words = tokenize(document)\n",
        "    term_vector = {}\n",
        "\n",
        "    # Count word occurrences\n",
        "    for word in words:\n",
        "        if word in term_vector:\n",
        "            term_vector[word] += 1\n",
        "        else:\n",
        "            term_vector[word] = 1\n",
        "\n",
        "    # Emit hostname and term vector\n",
        "    EmitIntermediate(hostname, term_vector)\n",
        "\n",
        "# Reduce function\n",
        "def reduce(hostname, term_vectors):\n",
        "    final_term_vector = {}\n",
        "\n",
        "    # Aggregate term vectors across all documents for the hostname\n",
        "    for term_vector in term_vectors:\n",
        "        for word, count in term_vector.items():\n",
        "            if word in final_term_vector:\n",
        "                final_term_vector[word] += count\n",
        "            else:\n",
        "                final_term_vector[word] = count\n",
        "\n",
        "    # Emit hostname and final term vector\n",
        "    Emit(hostname, final_term_vector)\n"
      ],
      "metadata": {
        "id": "eH7uK0rqFuQw"
      },
      "execution_count": 1,
      "outputs": []
    }
  ]
}